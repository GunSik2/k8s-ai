{
 "cells": [
  {
   "cell_type": "code",
   "execution_count": 1,
   "id": "f05d2c7b",
   "metadata": {},
   "outputs": [
    {
     "name": "stdout",
     "output_type": "stream",
     "text": [
      "Requirement already satisfied: pyspark==3.1.2 in /usr/local/spark-3.1.2-bin-hadoop3.2/python (3.1.2)\n",
      "Requirement already satisfied: py4j==0.10.9 in /opt/conda/lib/python3.8/site-packages (from pyspark==3.1.2) (0.10.9)\n",
      "Requirement already satisfied: delta-spark in /opt/conda/lib/python3.8/site-packages (1.0.0)\n",
      "Requirement already satisfied: importlib-metadata>=3.10.0 in /opt/conda/lib/python3.8/site-packages (from delta-spark) (3.10.1)\n",
      "Requirement already satisfied: pyspark<3.2.0,>=3.1.0 in /usr/local/spark-3.1.2-bin-hadoop3.2/python (from delta-spark) (3.1.2)\n",
      "Requirement already satisfied: zipp>=0.5 in /opt/conda/lib/python3.8/site-packages (from importlib-metadata>=3.10.0->delta-spark) (3.4.1)\n",
      "Requirement already satisfied: py4j==0.10.9 in /opt/conda/lib/python3.8/site-packages (from pyspark<3.2.0,>=3.1.0->delta-spark) (0.10.9)\n"
     ]
    }
   ],
   "source": [
    "!pip install pyspark==3.1.2\n",
    "!pip install delta-spark"
   ]
  },
  {
   "cell_type": "code",
   "execution_count": 2,
   "id": "194ce7df",
   "metadata": {},
   "outputs": [],
   "source": [
    "import os\n",
    "os.environ['PYSPARK_SUBMIT_ARGS'] = '\\\n",
    "--packages \"io.delta:delta-core_2.12:1.0.0,org.apache.hadoop:hadoop-aws:3.2.0\" \\\n",
    "--conf \"spark.hadoop.fs.s3a.endpoint=http://172.17.0.1:9000\" \\\n",
    "--conf \"spark.hadoop.fs.s3a.access.key=miniouser\" \\\n",
    "--conf \"spark.hadoop.fs.s3a.secret.key=miniouser\" \\\n",
    "--conf \"spark.hadoop.fs.s3a.path.style.access=true\" \\\n",
    "--conf \"spark.hadoop.fs.s3a.impl=org.apache.hadoop.fs.s3a.S3AFileSystem\" \\\n",
    "--conf \"spark.sql.extensions=io.delta.sql.DeltaSparkSessionExtension\" \\\n",
    "--conf \"spark.sql.catalog.spark_catalog=org.apache.spark.sql.delta.catalog.DeltaCatalog\" \\\n",
    "--conf \"spark.delta.logStore.class=org.apache.spark.sql.delta.storage.S3SingleDriverLogStore\" \\\n",
    "pyspark-shell'"
   ]
  },
  {
   "cell_type": "code",
   "execution_count": 3,
   "id": "7462d44b",
   "metadata": {},
   "outputs": [
    {
     "name": "stdout",
     "output_type": "stream",
     "text": [
      "+---+\n",
      "| id|\n",
      "+---+\n",
      "|  0|\n",
      "|  1|\n",
      "|  2|\n",
      "|  3|\n",
      "|  4|\n",
      "+---+\n",
      "\n"
     ]
    }
   ],
   "source": [
    "from pyspark.sql import SparkSession\n",
    "from delta import *\n",
    "\n",
    "spark = SparkSession.builder \\\n",
    "    .appName(\"quickstart1\") \\\n",
    "    .getOrCreate()\n",
    "\n",
    "# Create a Delta table on S3:\n",
    "spark.range(5).write.format(\"delta\").save(\"s3a://miniouser/test01\")\n",
    "\n",
    "# Read a Delta table on S3:\n",
    "spark.read.format(\"delta\").load(\"s3a://miniouser/test01\").show()\n"
   ]
  },
  {
   "cell_type": "code",
   "execution_count": 4,
   "id": "b846a897",
   "metadata": {},
   "outputs": [
    {
     "name": "stdout",
     "output_type": "stream",
     "text": [
      "############# Creating a table ###############\n",
      "############ Reading the table ###############\n",
      "+---+\n",
      "| id|\n",
      "+---+\n",
      "|  0|\n",
      "|  1|\n",
      "|  2|\n",
      "|  3|\n",
      "|  4|\n",
      "+---+\n",
      "\n",
      "########### Upsert new data #############\n",
      "+---+\n",
      "| id|\n",
      "+---+\n",
      "|  4|\n",
      "|  5|\n",
      "|  1|\n",
      "|  0|\n",
      "|  3|\n",
      "|  6|\n",
      "|  2|\n",
      "+---+\n",
      "\n",
      "########## Overwrite the table ###########\n",
      "+---+\n",
      "| id|\n",
      "+---+\n",
      "|  5|\n",
      "|  6|\n",
      "|  7|\n",
      "|  8|\n",
      "|  9|\n",
      "+---+\n",
      "\n",
      "########### Update to the table(add 100 to every even value) ##############\n",
      "+---+\n",
      "| id|\n",
      "+---+\n",
      "|  5|\n",
      "|106|\n",
      "|  7|\n",
      "|108|\n",
      "|  9|\n",
      "+---+\n",
      "\n",
      "######### Delete every even value ##############\n",
      "+---+\n",
      "| id|\n",
      "+---+\n",
      "|  5|\n",
      "|  7|\n",
      "|  9|\n",
      "+---+\n",
      "\n",
      "######## Read old data using time travel ############\n",
      "+---+\n",
      "| id|\n",
      "+---+\n",
      "+---+\n",
      "\n"
     ]
    }
   ],
   "source": [
    "from pyspark.sql import SparkSession\n",
    "\n",
    "tableName = \"delta.`s3a://miniouser/test02/`\"\n",
    "\n",
    "# Enable SQL/DML commands and Metastore tables for the current spark session.\n",
    "# We need to set the following configs\n",
    "\n",
    "spark = SparkSession.builder \\\n",
    "    .appName(\"quickstart_sql1\") \\\n",
    "    .master(\"local[*]\") \\\n",
    "    .getOrCreate()\n",
    "\n",
    "# Clear any previous runs\n",
    "spark.sql(\"DROP TABLE IF EXISTS newData\")\n",
    "\n",
    "try: \n",
    "    # Create a table\n",
    "    print(\"############# Creating a table ###############\")\n",
    "    spark.sql(\"CREATE TABLE %s(id LONG) USING delta\" % tableName)\n",
    "    spark.sql(\"INSERT INTO %s VALUES 0, 1, 2, 3, 4\" % tableName)\n",
    "\n",
    "    # Read the table\n",
    "    print(\"############ Reading the table ###############\")\n",
    "    spark.sql(\"SELECT * FROM %s\" % tableName).show()\n",
    "\n",
    "    # Upsert (merge) new data\n",
    "    print(\"########### Upsert new data #############\")\n",
    "    spark.sql(\"CREATE TABLE newData(id LONG) USING parquet\")\n",
    "    spark.sql(\"INSERT INTO newData VALUES 3, 4, 5, 6\")\n",
    "\n",
    "    spark.sql('''MERGE INTO {0} USING newData\n",
    "            ON {0}.id = newData.id\n",
    "            WHEN MATCHED THEN\n",
    "              UPDATE SET {0}.id = newData.id\n",
    "            WHEN NOT MATCHED THEN INSERT *\n",
    "        '''.format(tableName))\n",
    "\n",
    "    spark.sql(\"SELECT * FROM %s\" % tableName).show()\n",
    "\n",
    "    # Update table data\n",
    "    print(\"########## Overwrite the table ###########\")\n",
    "    spark.sql(\"INSERT OVERWRITE %s select * FROM (VALUES 5, 6, 7, 8, 9) x (id)\" % tableName)\n",
    "    spark.sql(\"SELECT * FROM %s\" % tableName).show()\n",
    "\n",
    "    # Update every even value by adding 100 to it\n",
    "    print(\"########### Update to the table(add 100 to every even value) ##############\")\n",
    "    spark.sql(\"UPDATE {0} SET id = (id + 100) WHERE (id % 2 == 0)\".format(tableName))\n",
    "    spark.sql(\"SELECT * FROM %s\" % tableName).show()\n",
    "\n",
    "    # Delete every even value\n",
    "    print(\"######### Delete every even value ##############\")\n",
    "    spark.sql(\"DELETE FROM {0} WHERE (id % 2 == 0)\".format(tableName))\n",
    "    spark.sql(\"SELECT * FROM %s\" % tableName).show()\n",
    "\n",
    "    # Read old version of data using time travel\n",
    "    print(\"######## Read old data using time travel ############\")\n",
    "    df = spark.read.format(\"delta\").option(\"versionAsOf\", 0).table(tableName)\n",
    "    df.show()\n",
    "    \n",
    "finally:\n",
    "    # cleanup\n",
    "    spark.sql(\"DROP TABLE IF EXISTS newData\")\n",
    "    spark.stop()    "
   ]
  },
  {
   "cell_type": "code",
   "execution_count": 27,
   "id": "2de2968b",
   "metadata": {},
   "outputs": [
    {
     "name": "stdout",
     "output_type": "stream",
     "text": [
      "+-------+-------------------+------+--------+------------+--------------------+----+--------+---------+-----------+--------------+-------------+--------------------+------------+\n",
      "|version|          timestamp|userId|userName|   operation| operationParameters| job|notebook|clusterId|readVersion|isolationLevel|isBlindAppend|    operationMetrics|userMetadata|\n",
      "+-------+-------------------+------+--------+------------+--------------------+----+--------+---------+-----------+--------------+-------------+--------------------+------------+\n",
      "|      5|2021-10-20 07:32:18|  null|    null|      DELETE|{predicate -> [\"(...|null|    null|     null|          4|          null|        false|{numRemovedFiles ...|        null|\n",
      "|      4|2021-10-20 07:32:14|  null|    null|      UPDATE|{predicate -> ((i...|null|    null|     null|          3|          null|        false|{numRemovedFiles ...|        null|\n",
      "|      3|2021-10-20 07:32:09|  null|    null|       WRITE|{mode -> Overwrit...|null|    null|     null|          2|          null|        false|{numFiles -> 1, n...|        null|\n",
      "|      2|2021-10-20 07:32:05|  null|    null|       MERGE|{predicate -> (sp...|null|    null|     null|          1|          null|        false|{numTargetRowsCop...|        null|\n",
      "|      1|2021-10-20 07:31:53|  null|    null|       WRITE|{mode -> Append, ...|null|    null|     null|          0|          null|         true|{numFiles -> 1, n...|        null|\n",
      "|      0|2021-10-20 07:31:50|  null|    null|CREATE TABLE|{isManaged -> fal...|null|    null|     null|       null|          null|         true|                  {}|        null|\n",
      "+-------+-------------------+------+--------+------------+--------------------+----+--------+---------+-----------+--------------+-------------+--------------------+------------+\n",
      "\n"
     ]
    }
   ],
   "source": [
    "tableName = \"delta.`s3a://miniouser/test02/`\"\n",
    "\n",
    "spark.sql(\"DESCRIBE HISTORY %s\" % tableName).show()"
   ]
  },
  {
   "cell_type": "code",
   "execution_count": 28,
   "id": "ad9a1ba4",
   "metadata": {},
   "outputs": [
    {
     "name": "stdout",
     "output_type": "stream",
     "text": [
      "############ Reading the table ###############\n",
      "+---+\n",
      "| id|\n",
      "+---+\n",
      "|  5|\n",
      "|  7|\n",
      "|  9|\n",
      "+---+\n",
      "\n"
     ]
    }
   ],
   "source": [
    "spark.sql(\"DROP TABLE IF EXISTS test02\")\n",
    "\n",
    "tableName = \"delta.`s3a://miniouser/test02/`\"\n",
    "# spark.sql(\"VACUUM %s\"  % tableName)\n",
    "\n",
    "# Read the table\n",
    "print(\"############ Reading the table ###############\")\n",
    "spark.sql(\"SELECT * FROM %s\" % tableName).show()"
   ]
  }
 ],
 "metadata": {
  "kernelspec": {
   "display_name": "Python 3",
   "language": "python",
   "name": "python3"
  },
  "language_info": {
   "codemirror_mode": {
    "name": "ipython",
    "version": 3
   },
   "file_extension": ".py",
   "mimetype": "text/x-python",
   "name": "python",
   "nbconvert_exporter": "python",
   "pygments_lexer": "ipython3",
   "version": "3.8.8"
  }
 },
 "nbformat": 4,
 "nbformat_minor": 5
}

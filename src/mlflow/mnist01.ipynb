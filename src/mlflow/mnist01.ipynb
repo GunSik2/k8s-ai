{
 "cells": [
  {
   "cell_type": "markdown",
   "id": "dense-updating",
   "metadata": {},
   "source": [
    "# Setup"
   ]
  },
  {
   "cell_type": "code",
   "execution_count": 5,
   "id": "significant-comfort",
   "metadata": {},
   "outputs": [],
   "source": [
    "import matplotlib.pyplot as plt \n",
    "import numpy as np\n",
    "from tensorflow import keras\n",
    "from tensorflow.keras import layers"
   ]
  },
  {
   "cell_type": "code",
   "execution_count": 61,
   "metadata": {},
   "outputs": [],
   "source": [
    "def reshape(x, n):\n",
    "    x = x.reshape((n, 28 * 28))\n",
    "    return x.astype('float32') / 255\n",
    "\n",
    "def get_train_data(data_path=None):\n",
    "    from tensorflow.keras.datasets import mnist\n",
    "    from tensorflow.keras.utils import to_categorical\n",
    "    if data_path:\n",
    "        raise NotImplementedError(f\"Custom data file yet supported: {data_path}\")\n",
    "    else:\n",
    "        (x_train, y_train), (x_test, y_test) = mnist.load_data()\n",
    "        \n",
    "    print(\"Data:\")\n",
    "    print(\"  x_train.shape:\", x_train.shape)\n",
    "    print(\"  y_train.shape:\", y_train.shape)\n",
    "    print(\"  x_test.shape:\", x_test.shape)\n",
    "    print(\"  y_test.shape:\", y_test.shape)\n",
    "    \n",
    "    x_train = reshape(x_train, x_train.shape[0])\n",
    "    x_test = reshape(x_test, x_test.shape[0])\n",
    "    y_train = to_categorical(y_train)\n",
    "    y_test = to_categorical(y_test)\n",
    "\n",
    "    print(\"Data after reshape:\")\n",
    "    print(\"  x_train.shape:\", x_train.shape)\n",
    "    print(\"  y_train.shape:\", y_train.shape)\n",
    "    print(\"  x_test.shape:\", x_test.shape)\n",
    "    print(\"  y_test.shape:\", y_test.shape)\n",
    "\n",
    "    plt.imshow(x_train[0].reshape(28, -1))\n",
    "    plt.show()\n",
    "    return x_train, y_train, x_test, y_test\n",
    "\n",
    "def build_model():\n",
    "    model = keras.models.Sequential()\n",
    "    model.add(keras.layers.Dense(512, activation=\"relu\", input_shape=(28 * 28,)))\n",
    "    model.add(keras.layers.Dense(10, activation=\"softmax\"))\n",
    "    return model\n",
    "\n",
    "def train_model(x_train, y_train):\n",
    "    import tensorflow.keras\n",
    "    from tensorflow.keras.models import Sequential\n",
    "    from tensorflow.keras.layers import Dense\n",
    "\n",
    "    \n",
    "    model = build_model()\n",
    "    model.compile(loss=\"categorical_crossentropy\", optimizer=\"rmsprop\", metrics=[\"accuracy\"])\n",
    "    #model.compile(loss=\"categorical_crossentropy\", optimizer=\"adam\", metrics=[\"accuracy\"])\n",
    "    model.summary()\n",
    "\n",
    "    history = model.fit(x_train, y_train, epochs=10, batch_size=64, validation_split=.2)\n",
    "    print(\"model.type:\",type(model))\n",
    "    \n",
    "    return model, history\n",
    "\n",
    "def evaluate_model(model, x_test, y_test):\n",
    "    score = model.evaluate(x_test, y_test, verbose=1)\n",
    "    print(\"Test loss:\", score[0])\n",
    "    print(\"Test accuracy:\", score[1])\n",
    "    \n",
    "def show_history(history): \n",
    "    plt.figure(figsize=(18, 6))\n",
    "\n",
    "    # 에포크별 정확도\n",
    "    plt.subplot(1,2,1)\n",
    "    plt.plot(history.history['accuracy'], label=\"accuracy\")\n",
    "    plt.plot(history.history[\"val_accuracy\"], label=\"val_accuracy\")\n",
    "    plt.title(\"accuracy\")\n",
    "    plt.legend()\n",
    "\n",
    "    # 에포크별 손실률\n",
    "    plt.subplot(1,2,2)\n",
    "    plt.plot(history.history[\"loss\"], label=\"loss\")\n",
    "    plt.plot(history.history[\"val_loss\"], label=\"val_loss\")\n",
    "    plt.title(\"loss\")\n",
    "    plt.legend()\n",
    "\n",
    "    plt.show()    "
   ]
  },
  {
   "cell_type": "code",
   "execution_count": null,
   "metadata": {},
   "outputs": [],
   "source": [
    "def main(): \n",
    "    # Automatically capture the model's parameters, metrics, artifacts,\n",
    "    # and source code with the `autolog()` function\n",
    "    mlflow.tensorflow.autolog()\n",
    "\n",
    "    with mlflow.start_run() as run:\n",
    "        print(\"MLflow:\")\n",
    "        print(\"  run_id:\",run.info.run_id)\n",
    "        print(\"  experiment_id:\",run.info.experiment_id)\n",
    "        mlflow.set_tag(\"version.mlflow\", mlflow.__version__)\n",
    "        mlflow.set_tag(\"version.keras\", keras.__version__)\n",
    "        \n",
    "        x_train, y_train, x_test, y_test = get_train_data()\n",
    "        \n",
    "        model, history = train_model(x_train, y_train)\n",
    "        \n",
    "        evaluate_model(model,x_test, y_test) \n",
    "        \n",
    "        show_history(history)\n",
    "        \n",
    "        model.save(\"./mnist.h5\")\n",
    "        \n",
    "        model2 = keras.models.load_model(\"./mnist.h5\")\n",
    "        \n",
    "main()"
   ]
  },
  {
   "cell_type": "code",
   "execution_count": 63,
   "metadata": {},
   "outputs": [
    {
     "name": "stdout",
     "output_type": "stream",
     "text": [
      "Data:\n",
      "  x_train.shape: (60000, 28, 28)\n",
      "  y_train.shape: (60000,)\n",
      "  x_test.shape: (10000, 28, 28)\n",
      "  y_test.shape: (10000,)\n",
      "Data after reshape:\n",
      "  x_train.shape: (60000, 784)\n",
      "  y_train.shape: (60000, 10)\n",
      "  x_test.shape: (10000, 784)\n",
      "  y_test.shape: (10000, 10)\n"
     ]
    },
    {
     "data": {
      "image/png": "[encoded data removed]",
      "text/plain": [
       "<Figure size 432x288 with 1 Axes>"
      ]
     },
     "metadata": {
      "needs_background": "light"
     },
     "output_type": "display_data"
    },
    {
     "name": "stdout",
     "output_type": "stream",
     "text": [
      "Model: \"sequential_25\"\n",
      "_________________________________________________________________\n",
      "Layer (type)                 Output Shape              Param #   \n",
      "=================================================================\n",
      "dense_35 (Dense)             (None, 512)               401920    \n",
      "_________________________________________________________________\n",
      "dense_36 (Dense)             (None, 10)                5130      \n",
      "=================================================================\n",
      "Total params: 407,050\n",
      "Trainable params: 407,050\n",
      "Non-trainable params: 0\n",
      "_________________________________________________________________\n",
      "Epoch 1/10\n",
      "750/750 [==============================] - 4s 5ms/step - loss: 0.4016 - accuracy: 0.8800 - val_loss: 0.1290 - val_accuracy: 0.9610\n",
      "Epoch 2/10\n",
      "750/750 [==============================] - 3s 4ms/step - loss: 0.1127 - accuracy: 0.9669 - val_loss: 0.0974 - val_accuracy: 0.9722\n",
      "Epoch 3/10\n",
      "750/750 [==============================] - 3s 4ms/step - loss: 0.0671 - accuracy: 0.9792 - val_loss: 0.1090 - val_accuracy: 0.9704\n",
      "Epoch 4/10\n",
      "750/750 [==============================] - 3s 4ms/step - loss: 0.0492 - accuracy: 0.9850 - val_loss: 0.0862 - val_accuracy: 0.9776\n",
      "Epoch 5/10\n",
      "750/750 [==============================] - 3s 4ms/step - loss: 0.0356 - accuracy: 0.9896 - val_loss: 0.0825 - val_accuracy: 0.9779\n",
      "Epoch 6/10\n",
      "750/750 [==============================] - 3s 4ms/step - loss: 0.0278 - accuracy: 0.9919 - val_loss: 0.0907 - val_accuracy: 0.9781\n",
      "Epoch 7/10\n",
      "750/750 [==============================] - 3s 4ms/step - loss: 0.0206 - accuracy: 0.9941 - val_loss: 0.0997 - val_accuracy: 0.9768\n",
      "Epoch 8/10\n",
      "750/750 [==============================] - 3s 4ms/step - loss: 0.0155 - accuracy: 0.9958 - val_loss: 0.0980 - val_accuracy: 0.9787\n",
      "Epoch 9/10\n",
      "750/750 [==============================] - 3s 4ms/step - loss: 0.0128 - accuracy: 0.9968 - val_loss: 0.1009 - val_accuracy: 0.9787\n",
      "Epoch 10/10\n",
      "750/750 [==============================] - 3s 4ms/step - loss: 0.0082 - accuracy: 0.9979 - val_loss: 0.1076 - val_accuracy: 0.9791\n"
     ]
    },
    {
     "name": "stderr",
     "output_type": "stream",
     "text": [
      "2022/03/02 16:58:46 WARNING mlflow.utils.autologging_utils: Encountered unexpected error during tensorflow autologging: '/tf/k8s-ai/src/mlflow/mlruns' does not exist.\n"
     ]
    },
    {
     "name": "stdout",
     "output_type": "stream",
     "text": [
      "model.type: <class 'tensorflow.python.keras.engine.sequential.Sequential'>\n",
      "313/313 [==============================] - 1s 2ms/step - loss: 0.0840 - accuracy: 0.9804\n",
      "Test loss: 0.08399876952171326\n",
      "Test accuracy: 0.980400025844574\n"
     ]
    },
    {
     "data": {
      "image/png": "[encoded data removed]",
      "text/plain": [
       "<Figure size 1296x432 with 2 Axes>"
      ]
     },
     "metadata": {
      "needs_background": "light"
     },
     "output_type": "display_data"
    }
   ],
   "source": [
    "def main(): \n",
    "    x_train, y_train, x_test, y_test = get_train_data()\n",
    "\n",
    "    model, history = train_model(x_train, y_train)\n",
    "\n",
    "    evaluate_model(model,x_test, y_test) \n",
    "\n",
    "    show_history(history)\n",
    "\n",
    "    model.save(\"./mnist.h5\")\n",
    "\n",
    "    model2 = keras.models.load_model(\"./mnist.h5\")\n",
    "        \n",
    "main()"
   ]
  },
  {
   "cell_type": "markdown",
   "id": "experimental-establishment",
   "metadata": {},
   "source": [
    "# Reference\n",
    "- https://keras.io/examples/vision/mnist_convnet/"
   ]
  }
 ],
 "metadata": {
  "kernelspec": {
   "display_name": "Python 3",
   "language": "python",
   "name": "python3"
  },
  "language_info": {
   "codemirror_mode": {
    "name": "ipython",
    "version": 3
   },
   "file_extension": ".py",
   "mimetype": "text/x-python",
   "name": "python",
   "nbconvert_exporter": "python",
   "pygments_lexer": "ipython3",
   "version": "3.6.9"
  }
 },
 "nbformat": 4,
 "nbformat_minor": 5
}
